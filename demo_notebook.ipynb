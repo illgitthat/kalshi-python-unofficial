{
 "cells": [
  {
   "cell_type": "code",
   "execution_count": null,
   "id": "4711f448",
   "metadata": {},
   "outputs": [],
   "source": [
    "import os\n",
    "from kalshi import auth, constants, utils\n",
    "from kalshi.rest import exchange, market, portfolio\n",
    "from dotenv import load_dotenv\n",
    "import numpy as np\n",
    "import pandas as pd\n",
    "\n",
    "constants.use_demo() # or constants.use_prod()\n",
    "\n",
    "# Provide your credentials here\n",
    "KALSHI_ACCESS_KEY = os.getenv(\"DEMO_KEYID\")\n",
    "KALSHI_PRIVATE_KEY_PATH = os.getenv(\"DEMO_KEYFILE\")\n",
    "\n",
    "auth.set_key(KALSHI_ACCESS_KEY, KALSHI_PRIVATE_KEY_PATH)\n",
    "\n",
    "status = exchange.GetExchangeStatus()\n",
    "status\n"
   ]
  },
  {
   "cell_type": "markdown",
   "id": "152d08b8",
   "metadata": {},
   "source": [
    "## Events, markets, trades"
   ]
  },
  {
   "cell_type": "code",
   "execution_count": null,
   "id": "f389ed45",
   "metadata": {},
   "outputs": [],
   "source": [
    "# Discover markets\n",
    "mkts = market.GetMarkets(limit=50)\n",
    "print(len(mkts.get(\"markets\", [])), list(mkts.keys()))\n",
    "print(mkts.get(\"markets\", [])[0])\n"
   ]
  },
  {
   "cell_type": "code",
   "execution_count": null,
   "id": "c6144076",
   "metadata": {},
   "outputs": [],
   "source": [
    "# Get event information\n",
    "event_ticker = \"KXPRESNOMD-28\"\n",
    "evt = market.GetEvent(event_ticker=event_ticker)\n",
    "evt"
   ]
  },
  {
   "cell_type": "code",
   "execution_count": null,
   "id": "4f471bf8",
   "metadata": {},
   "outputs": [],
   "source": [
    "market_ticker = \"KXPRESNOMD-28-GN\"\n",
    "from time import time\n",
    "\n",
    "# Get trades from last WEEK\n",
    "trades = market.GetTrades(\n",
    "    ticker=market_ticker,\n",
    "    min_ts=int(time()) - 7* 24 * 3600,\n",
    "    max_ts=int(time()),\n",
    "    limit=1000,\n",
    ")\n",
    "len(trades.get(\"trades\", [])), list(trades.keys())"
   ]
  },
  {
   "cell_type": "code",
   "execution_count": null,
   "id": "4cada4de",
   "metadata": {},
   "outputs": [],
   "source": [
    "trades[\"trades\"][0]"
   ]
  },
  {
   "cell_type": "code",
   "execution_count": null,
   "id": "711b54ed",
   "metadata": {},
   "outputs": [],
   "source": [
    "trades_df = pd.DataFrame(trades[\"trades\"])\n",
    "utils.calculate_volume_stats(trades_df)"
   ]
  },
  {
   "cell_type": "code",
   "execution_count": null,
   "id": "8fb5e7b0",
   "metadata": {},
   "outputs": [],
   "source": [
    "# calculate volume weighted average price\n",
    "utils.calculate_vwap(trades_df)"
   ]
  },
  {
   "cell_type": "code",
   "execution_count": null,
   "id": "03400bdd",
   "metadata": {},
   "outputs": [],
   "source": [
    "utils.plot_trades(trades_df)"
   ]
  },
  {
   "cell_type": "markdown",
   "id": "63087240",
   "metadata": {},
   "source": [
    "## Order Book"
   ]
  },
  {
   "cell_type": "code",
   "execution_count": null,
   "id": "d978e989",
   "metadata": {},
   "outputs": [],
   "source": [
    "# Get market order book\n",
    "order_book = market.GetMarketOrderbook(ticker=market_ticker)\n",
    "order_book\n"
   ]
  },
  {
   "cell_type": "code",
   "execution_count": null,
   "id": "803bb75d",
   "metadata": {},
   "outputs": [],
   "source": [
    "# \n",
    "import matplotlib.pyplot as plt\n",
    "import numpy as np\n",
    "\n",
    "# Extract yes bids and no asks from the orderbook\n",
    "yes_bids = order_book['orderbook'].get('yes', [])\n",
    "no_bids = order_book['orderbook'].get('no', [])\n",
    "\n",
    "# Convert to arrays for plotting\n",
    "if yes_bids:\n",
    "    yes_prices = [bid[0] for bid in yes_bids]\n",
    "    yes_sizes = [bid[1] for bid in yes_bids]\n",
    "else:\n",
    "    yes_prices, yes_sizes = [], []\n",
    "\n",
    "# Convert no bids to yes asks (100 - no_price)\n",
    "if no_bids:\n",
    "    no_as_yes_prices = [100 - bid[0] for bid in no_bids]\n",
    "    no_as_yes_sizes = [bid[1] for bid in no_bids]\n",
    "else:\n",
    "    no_as_yes_prices, no_as_yes_sizes = [], []\n",
    "\n",
    "# Create the plot\n",
    "fig, ax = plt.subplots(figsize=(12, 8))\n",
    "\n",
    "# Plot yes bids (green bars going left from center)\n",
    "if yes_bids:\n",
    "    for price, size in zip(yes_prices, yes_sizes):\n",
    "        ax.barh(price, size, height=0.8, color='green', alpha=0.7, label='Yes Bids' if price == yes_prices[0] else \"\")\n",
    "\n",
    "# Plot no bids converted to yes asks (red bars going right from center)\n",
    "if no_bids:\n",
    "    for price, size in zip(no_as_yes_prices, no_as_yes_sizes):\n",
    "        ax.barh(price, size, height=0.8, color='red', alpha=0.7, label='Yes Asks (from No)' if price == no_as_yes_prices[0] else \"\")\n",
    "\n",
    "# Formatting\n",
    "ax.set_xlabel('Size')\n",
    "ax.set_ylabel('Price (cents)')\n",
    "ax.set_title(f'Order Book for {market_ticker}')\n",
    "ax.grid(True, alpha=0.3)\n",
    "\n",
    "# Add legend\n",
    "if yes_bids or no_bids:\n",
    "    ax.legend()\n",
    "\n",
    "# Set y-axis limits to show reasonable price range\n",
    "if yes_prices or no_as_yes_prices:\n",
    "    all_prices = yes_prices + no_as_yes_prices\n",
    "    min_price = max(0, min(all_prices) - 5)\n",
    "    max_price = min(100, max(all_prices) + 5)\n",
    "    ax.set_ylim(min_price, max_price)\n",
    "\n",
    "plt.tight_layout()\n",
    "plt.show()\n",
    "\n",
    "# Calculate spread\n",
    "spread = None\n",
    "best_yes_bid = max(yes_prices) if yes_prices else None\n",
    "best_yes_ask = min(no_as_yes_prices) if no_as_yes_prices else None\n",
    "\n",
    "if best_yes_bid is not None and best_yes_ask is not None:\n",
    "    spread = best_yes_ask - best_yes_bid\n",
    "\n",
    "# Print summary\n",
    "print(f\"\\nOrder Book Summary for {market_ticker}:\")\n",
    "print(f\"Yes Bids: {len(yes_bids)} orders\")\n",
    "print(f\"No Bids (as Yes Asks): {len(no_bids)} orders\")\n",
    "if best_yes_bid is not None:\n",
    "    print(f\"Best Yes Bid: {best_yes_bid}¢\")\n",
    "if best_yes_ask is not None:\n",
    "    print(f\"Best Yes Ask: {best_yes_ask}¢\")\n",
    "if spread is not None:\n",
    "    print(f\"Spread: {spread}¢\")\n"
   ]
  },
  {
   "cell_type": "markdown",
   "id": "d93e5173",
   "metadata": {},
   "source": [
    "## Portfolio and trades"
   ]
  },
  {
   "cell_type": "code",
   "execution_count": null,
   "id": "4b7b1dc1",
   "metadata": {},
   "outputs": [],
   "source": [
    "# Portfolio endpoints: Balance, Positions, Fills, Settlements\n",
    "bal = portfolio.GetBalance()\n",
    "pos = portfolio.GetPositions(limit=50)\n",
    "fil = portfolio.GetFills(limit=20)\n",
    "setl = portfolio.GetPortfolioSettlements(limit=20)\n",
    "\n",
    "{\"balance\": bal, \"positions_keys\": list(pos.keys()), \"fills_keys\": list(fil.keys()), \"settlements_keys\": list(setl.keys())}\n"
   ]
  },
  {
   "cell_type": "code",
   "execution_count": null,
   "id": "1887e384",
   "metadata": {},
   "outputs": [],
   "source": [
    "import uuid\n",
    "\n",
    "if constants.BASE_URL == constants.PROD_BASE_URL:\n",
    "    raise Exception(\"DANGER: USING PROD\")\n",
    "\n",
    "# Place a limit buy for 1 contract at 20c Yes\n",
    "order_response = portfolio.CreateOrder(\n",
    "    ticker=\"KXPRESNOMD-28-GN\",\n",
    "    client_order_id=str(uuid.uuid4()),\n",
    "    type=\"limit\",      # \"limit\" or \"market\"\n",
    "    action=\"buy\",      # \"buy\" or \"sell\"\n",
    "    side=\"yes\",        # \"yes\" or \"no\"\n",
    "    count=1,\n",
    "    yes_price=20       # price in cents (0-100). Use 'no_price' instead if side=\"no\"\n",
    ")\n",
    "\n",
    "order_response"
   ]
  }
 ],
 "metadata": {
  "kernelspec": {
   "display_name": "venv",
   "language": "python",
   "name": "python3"
  },
  "language_info": {
   "codemirror_mode": {
    "name": "ipython",
    "version": 3
   },
   "file_extension": ".py",
   "mimetype": "text/x-python",
   "name": "python",
   "nbconvert_exporter": "python",
   "pygments_lexer": "ipython3",
   "version": "3.13.3"
  }
 },
 "nbformat": 4,
 "nbformat_minor": 5
}
